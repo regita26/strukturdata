{
 "cells": [
  {
   "cell_type": "code",
   "execution_count": null,
   "metadata": {},
   "outputs": [],
   "source": [
    "#Linier Probbing\n",
    "[77, 44, 55, 20, 26, 93, 17, 25, None, 31, 54]\n",
    "table = [None] * 11\n",
    "\n",
    "def hash(x):\n",
    "  return x % 11\n",
    "\n",
    "def insert(table,key,value):\n",
    "  index = hash(key)\n",
    "    if table[index] == None:\n",
    "    table[index] = value\n",
    "    else :\n",
    "    collusion=index\n",
    "\n",
    "    found = False\n",
    "    ind=collusion+1\n",
    "    if ind>= len(table)-1:\n",
    "        ind = 0\n",
    "    while (ind<=len(table)-1) and not(found):\n",
    "        if table[ind]== None:\n",
    "            found=True\n",
    "            table[ind]=value\n",
    "            ind=ind+1\n",
    "\n",
    "print(table)\n",
    "insert(table,54,54)\n",
    "print(table)\n",
    "insert(table,26,26)\n",
    "print(table)\n",
    "insert(table,93,93)\n",
    "print(table)\n",
    "insert(table,17,17)\n",
    "print(table)\n",
    "insert(table,77,77)\n",
    "print(table)\n",
    "insert(table,31,31)\n",
    "print(table)\n",
    "insert(table,44,44)\n",
    "print(table)\n",
    "insert(table,55,55)\n",
    "print(table)\n",
    "insert(table,20,20)\n",
    "print(table)\n",
    "insert(table,25,25)\n",
    "print(table)"
   ]
  },
  {
   "cell_type": "code",
   "execution_count": null,
   "metadata": {},
   "outputs": [
    {
     "name": "stdout",
     "output_type": "stream",
     "text": [
      "[None, None, None, None, None, None, None, None, None, None, None]\n",
      "[None, None, None, None, None, None, None, None, None, None, 54]\n",
      "[None, None, None, None, 26, None, None, None, None, None, 54]\n",
      "[None, None, None, None, 26, '93', None, None, None, None, 54]\n",
      "[None, None, None, None, 26, '93', '17', None, None, None, 54]\n",
      "['77', None, None, None, 26, '93', '17', None, None, None, 54]\n",
      "['77', None, None, None, 26, '93', '17', None, None, '31', 54]\n",
      "['77', '44', None, None, 26, '93', '17', None, None, '31', 54]\n"
     ]
    }
   ],
   "source": [
    "#Quadratic Probbing\n",
    "['77', '44', '20', '55', 26, '93', '17', None, None, '31', 54]\n",
    "table = [None] * 11\n",
    "def hash(x):\n",
    "  return x % 11\n",
    "\n",
    "\n",
    "def insert(table,key,value):\n",
    "  index = hash(key)\n",
    "  if table[index] == None:\n",
    "    table[index] = value\n",
    "  else:\n",
    "    collusion=index\n",
    "    found = False\n",
    "    i=1\n",
    "    ind = collusion+1\n",
    "\n",
    "    if ind > len(table)-1:\n",
    "        ind = 0\n",
    "\n",
    "    while (ind<=len(table)-1) and not(found):\n",
    "      if table[ind]== None:\n",
    "        found=True\n",
    "        table[ind]=value\n",
    "        ind = (collusion+(i*i)) % 11\n",
    "      i=i+1\n",
    "\n",
    "print(table)\n",
    "insert(table,54,54)\n",
    "print(table)\n",
    "insert(table,26,26)\n",
    "print(table)\n",
    "insert(table,93,'93')\n",
    "print(table)\n",
    "insert(table,17,'17')\n",
    "print(table)\n",
    "insert(table,77,'77')\n",
    "print(table)\n",
    "insert(table,31,'31')\n",
    "print(table)\n",
    "insert(table,44,'44')\n",
    "print(table)\n",
    "insert(table,55,'55')\n",
    "print(table)\n",
    "insert(table,20,'20')\n",
    "print(table)"
   ]
  },
  {
   "cell_type": "code",
   "execution_count": null,
   "metadata": {},
   "outputs": [],
   "source": [
    "#Chaining\n",
    "[[77, 44, 55], [], [], [], [26], [93], [17], [], [], [31, 20], [54]]\n",
    "\n",
    "table = [ [] for _ in range(11)]\n",
    "def hash(x):\n",
    "  return x % 11\n",
    "def insert(table,key,value):\n",
    "  table[hash(key)].append(value)"
   ]
  },
  {
   "cell_type": "markdown",
   "metadata": {},
   "source": []
  }
 ],
 "metadata": {
  "kernelspec": {
   "display_name": "Python 3",
   "language": "python",
   "name": "python3"
  },
  "language_info": {
   "codemirror_mode": {
    "name": "ipython",
    "version": 3
   },
   "file_extension": ".py",
   "mimetype": "text/x-python",
   "name": "python",
   "nbconvert_exporter": "python",
   "pygments_lexer": "ipython3",
   "version": "3.7.1"
  }
 },
 "nbformat": 4,
 "nbformat_minor": 2
}
