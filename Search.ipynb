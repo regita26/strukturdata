{
 "cells": [
  {
   "cell_type": "code",
   "execution_count": 2,
   "metadata": {},
   "outputs": [
    {
     "name": "stdout",
     "output_type": "stream",
     "text": [
      "Did not find the search number\n"
     ]
    }
   ],
   "source": [
    "#Linear Search\n",
    "search = 7\n",
    "a = [8,5,7,9,2]\n",
    "position = len(a)-1 \n",
    "last = 0\n",
    "found = False\n",
    "while position <= last and not found : \n",
    "    if a[position] == search:\n",
    "        found = True\n",
    "    else: \n",
    "        position = position-1\n",
    "if found:\n",
    "    print(\"Found search number\")\n",
    "    print(\"position\")\n",
    "else:\n",
    "    print(\"Did not find the search number\")"
   ]
  },
  {
   "cell_type": "code",
   "execution_count": 3,
   "metadata": {},
   "outputs": [
    {
     "name": "stdout",
     "output_type": "stream",
     "text": [
      "Found the search number.\n",
      "0\n"
     ]
    }
   ],
   "source": [
    "#Binary Search\n",
    "search = 1\n",
    "myList = [3, 1, 4, 4, 5, 6]\n",
    "myList.sort()\n",
    "first = 0\n",
    "last = len(myList)-1\n",
    "found = False\n",
    "\n",
    "while first <= last and not found:\n",
    "  middle = (first + last) // 2\n",
    "  if myList[middle] == search:\n",
    "     found = True\n",
    "  else:\n",
    "    if search < myList[middle] :\n",
    "      last = middle - 1\n",
    "    else:\n",
    "      first = middle +1\n",
    "if found:\n",
    "    print(\"Found the search number.\")\n",
    "    print(middle)\n",
    "else:\n",
    "    print(\"Did not find the search number.\")"
   ]
  },
  {
   "cell_type": "code",
   "execution_count": null,
   "metadata": {},
   "outputs": [],
   "source": []
  }
 ],
 "metadata": {
  "kernelspec": {
   "display_name": "Python 3",
   "language": "python",
   "name": "python3"
  },
  "language_info": {
   "codemirror_mode": {
    "name": "ipython",
    "version": 3
   },
   "file_extension": ".py",
   "mimetype": "text/x-python",
   "name": "python",
   "nbconvert_exporter": "python",
   "pygments_lexer": "ipython3",
   "version": "3.7.1"
  }
 },
 "nbformat": 4,
 "nbformat_minor": 2
}
