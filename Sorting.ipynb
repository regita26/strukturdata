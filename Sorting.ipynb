{
 "cells": [
  {
   "cell_type": "code",
   "execution_count": 1,
   "metadata": {},
   "outputs": [
    {
     "name": "stdout",
     "output_type": "stream",
     "text": [
      "[5, 0, 1, 10, 7, 2, 5, 4, 6, 9]\n",
      "[0, 1, 2, 4, 5, 5, 6, 7, 9, 10]\n"
     ]
    }
   ],
   "source": [
    "#Bubble Sort\n",
    "lst = [5,0,1,10,7,2,5,4,6,9]\n",
    "print(lst)\n",
    "for k in range(1,len(lst)):\n",
    "    for i in range(0,len(lst)-1):\n",
    "        if lst[i]>lst[i+1]:\n",
    "            lst[i],lst[i+1] = lst[i+1],lst[i]\n",
    "print(lst)\n"
   ]
  },
  {
   "cell_type": "code",
   "execution_count": 2,
   "metadata": {},
   "outputs": [
    {
     "name": "stdout",
     "output_type": "stream",
     "text": [
      "[4, 7, 1, 9, 3, 10, 6]\n",
      "[1, 3, 4, 6, 7, 9, 10]\n"
     ]
    }
   ],
   "source": [
    "#Selection Sort\n",
    "lst = [4,7,1,9,3,10,6]\n",
    "print(lst)\n",
    "for i in range(0,len(lst)-1):\n",
    "    min=i\n",
    "    for j in range(i+1,len(lst)):\n",
    "        if lst[j]<lst[min]:\n",
    "            min = j\n",
    "\n",
    "    lst[i],lst[min]=lst[min],lst[i]\n",
    "print(lst)"
   ]
  },
  {
   "cell_type": "code",
   "execution_count": 3,
   "metadata": {},
   "outputs": [
    {
     "name": "stdout",
     "output_type": "stream",
     "text": [
      "[0, 1, 4, 7]\n"
     ]
    }
   ],
   "source": [
    "#Insertion Sort\n",
    "lst = [4,7,1,0]\n",
    "\n",
    "for i in range(1,len(lst)):\n",
    "    nilaiawal = lst[ i]\n",
    "    hole = i\n",
    "    while lst[hole-1] > nilaiawal and hole > 0   :\n",
    "        lst[hole] = lst[hole-1]\n",
    "        hole=hole-1\n",
    "\n",
    "    lst[hole] = nilaiawal\n",
    "\n",
    "print(lst)"
   ]
  },
  {
   "cell_type": "code",
   "execution_count": 4,
   "metadata": {},
   "outputs": [],
   "source": [
    "#Quick Sort\n",
    "def Partition(A,start,end):\n",
    "    pivot = A[end]\n",
    "    pIndex = start\n",
    "    for i in range(start,end):\n",
    "        if (A[i] <= pivot):\n",
    "            A[i],A[pIndex]=A[pIndex],A[i]\n",
    "            pIndex=pIndex+1\n",
    "    A[pIndex],A[end]=A[end],A[pIndex]\n",
    "    return pIndex"
   ]
  },
  {
   "cell_type": "code",
   "execution_count": 5,
   "metadata": {},
   "outputs": [
    {
     "name": "stdout",
     "output_type": "stream",
     "text": [
      "[0, 1, 2, 4, 6, 56, 100, 500]\n"
     ]
    }
   ],
   "source": [
    "#Quick Sort Awal\n",
    "def QuickSortAwal(A):\n",
    "    QuickSort(A,0,len(A)-1)\n",
    "\n",
    "def QuickSort(A,start,end):\n",
    "    if start<end:\n",
    "        pIndex = Partition(A,start,end)\n",
    "        QuickSort (A,start,pIndex-1)\n",
    "        QuickSort (A,pIndex+1,end)\n",
    "\n",
    "def Partition(A,start,end):\n",
    "    pivot = A[end]\n",
    "    pIndex = start\n",
    "    for i in range(start,end):\n",
    "        if (A[i] <= pivot):\n",
    "            A[i],A[pIndex]=A[pIndex],A[i]\n",
    "            pIndex=pIndex+1\n",
    "    A[pIndex],A[end]=A[end],A[pIndex]\n",
    "    return pIndex\n",
    "\n",
    "A=[100,6,500,4,56,2,1,0]\n",
    "QuickSortAwal(A)\n",
    "print(A)"
   ]
  },
  {
   "cell_type": "code",
   "execution_count": 6,
   "metadata": {},
   "outputs": [
    {
     "name": "stdout",
     "output_type": "stream",
     "text": [
      "[17, 20, 26, 31, 44, 54, 55, 77, 93, 99, 100]\n"
     ]
    }
   ],
   "source": [
    "#Merged Sort\n",
    "def MergedSort(A):\n",
    "    n = len(A)\n",
    "    if (n<2):\n",
    "       return\n",
    "    mid = len(A)//2\n",
    "    left = A[:mid]\n",
    "    right = A[mid:]\n",
    "    MergedSort(left)\n",
    "    MergedSort(right)\n",
    "    i=0\n",
    "    j=0\n",
    "    k=0\n",
    "    while i < len(left) and j < len(right):\n",
    "        if left[i] < right[j]:\n",
    "            A[k]=left[i]\n",
    "            i=i+1\n",
    "        else:\n",
    "            A[k]=right[j]\n",
    "            j=j+1\n",
    "        k=k+1\n",
    "\n",
    "    while i < len(left):\n",
    "        A[k]=left[i]\n",
    "        i=i+1\n",
    "        k=k+1\n",
    "\n",
    "    while j < len(right):\n",
    "        A[k]=right[j]\n",
    "        j=j+1\n",
    "        k=k+1\n",
    "\n",
    "Alist= [54,26,93,17,99,77,31,44,55,20,100]\n",
    "MergedSort(Alist)\n",
    "print(Alist)"
   ]
  },
  {
   "cell_type": "code",
   "execution_count": 7,
   "metadata": {},
   "outputs": [
    {
     "name": "stdout",
     "output_type": "stream",
     "text": [
      "[35, 33, 42, 10, 14, 19, 27, 44]\n",
      "4\n",
      "[14, 33, 42, 10, 35, 19, 27, 44]\n",
      "4\n",
      "[14, 19, 42, 10, 35, 33, 27, 44]\n",
      "4\n",
      "[14, 19, 27, 10, 35, 33, 42, 44]\n",
      "4\n",
      "[14, 19, 27, 10, 35, 33, 42, 44]\n",
      "2\n",
      "[14, 19, 27, 10, 35, 33, 42, 44]\n",
      "[14, 19, 27, 10, 35, 33, 42, 44]\n",
      "[14, 19, 27, 10, 35, 33, 42, 44]\n",
      "2\n",
      "[14, 10, 27, 19, 35, 33, 42, 44]\n",
      "[14, 10, 27, 19, 35, 33, 42, 44]\n",
      "[14, 10, 27, 19, 35, 33, 42, 44]\n",
      "1\n",
      "[10, 14, 27, 19, 35, 33, 42, 44]\n",
      "[10, 14, 27, 19, 35, 33, 42, 44]\n",
      "[10, 14, 19, 27, 35, 33, 42, 44]\n",
      "[10, 14, 19, 27, 35, 33, 42, 44]\n",
      "[10, 14, 19, 27, 33, 35, 42, 44]\n",
      "[10, 14, 19, 27, 33, 35, 42, 44]\n",
      "[10, 14, 19, 27, 33, 35, 42, 44]\n",
      "[10, 14, 19, 27, 33, 35, 42, 44]\n"
     ]
    }
   ],
   "source": [
    "#Shell Sort\n",
    "def shellSort(alist):\n",
    "    sublistcount = len(alist)//2\n",
    "    while sublistcount > 0:\n",
    "\n",
    "      for startposition in range(sublistcount):\n",
    "        print(sublistcount)\n",
    "        gapInsertionSort(alist,startposition,sublistcount)\n",
    "      sublistcount = sublistcount // 2\n",
    "\n",
    "def gapInsertionSort(alist,start,gap):\n",
    "    for i in range(start+gap,len(alist),gap):\n",
    "\n",
    "        currentvalue = alist[i]\n",
    "        position = i\n",
    "\n",
    "        while position>=gap and alist[position-gap]>currentvalue:\n",
    "            alist[position]=alist[position-gap]\n",
    "            position = position-gap\n",
    "\n",
    "        alist[position]=currentvalue\n",
    "        print(alist)\n",
    "        \n",
    "\n",
    "\n",
    "alist = [35,33,42,10,14,19,27,44]\n",
    "print(alist)\n",
    "shellSort(alist)\n",
    "print(alist)"
   ]
  },
  {
   "cell_type": "code",
   "execution_count": null,
   "metadata": {},
   "outputs": [],
   "source": []
  }
 ],
 "metadata": {
  "kernelspec": {
   "display_name": "Python 3",
   "language": "python",
   "name": "python3"
  },
  "language_info": {
   "codemirror_mode": {
    "name": "ipython",
    "version": 3
   },
   "file_extension": ".py",
   "mimetype": "text/x-python",
   "name": "python",
   "nbconvert_exporter": "python",
   "pygments_lexer": "ipython3",
   "version": "3.7.1"
  }
 },
 "nbformat": 4,
 "nbformat_minor": 2
}
